{
 "cells": [
  {
   "cell_type": "code",
   "execution_count": 5,
   "metadata": {
    "collapsed": true
   },
   "outputs": [
    {
     "name": "stdout",
     "output_type": "stream",
     "text": [
      "(309,)\nDeleted 217 rows\n      year  sunactivity\n0   1700.0          5.0\n1   1701.0         11.0\n2   1702.0         16.0\n3   1707.0         20.0\n4   1708.0         10.0\n5   1709.0          8.0\n6   1710.0          3.0\n7   1711.0          0.0\n8   1712.0          0.0\n9   1713.0          2.0\n10  1714.0         11.0\n11  1723.0         11.0\n"
     ]
    }
   ],
   "source": [
    "import statsmodels.api as sm\n",
    "from pandas.io.sql import read_sql\n",
    "import sqlite3\n",
    "\n",
    "\n",
    "with sqlite3.connect(\":memory:\") as con:\n",
    "    c = con.cursor()\n",
    "    \n",
    "    data_loader = sm.datasets.sunspots.load_pandas()\n",
    "    df = data_loader.data\n",
    "    rows = [tuple(x) for x in df.values]\n",
    "    \n",
    "    con.execute(\"CREATE TABLE sunspots(year, sunactivity)\")\n",
    "    con.executemany(\"INSERT INTO sunspots(year, sunactivity) VALUES (?, ?)\", rows)\n",
    "    c.execute(\"SELECT COUNT(*) FROM sunspots\")\n",
    "    print(c.fetchone())\n",
    "    print(\"Deleted\", con.execute(\"DELETE FROM sunspots where sunactivity > 20\").rowcount, \"rows\")\n",
    "    print(read_sql(\"SELECT * FROM sunspots where year < 1732\", con))\n",
    "    con.execute(\"DROP TABLE sunspots\")\n",
    "    c.close()\n",
    "    "
   ]
  },
  {
   "cell_type": "code",
   "execution_count": null,
   "metadata": {},
   "outputs": [],
   "source": []
  },
  {
   "cell_type": "code",
   "execution_count": null,
   "metadata": {},
   "outputs": [],
   "source": []
  }
 ],
 "metadata": {
  "kernelspec": {
   "display_name": "Python 2",
   "language": "python",
   "name": "python2"
  },
  "language_info": {
   "codemirror_mode": {
    "name": "ipython",
    "version": 2
   },
   "file_extension": ".py",
   "mimetype": "text/x-python",
   "name": "python",
   "nbconvert_exporter": "python",
   "pygments_lexer": "ipython2",
   "version": "2.7.6"
  }
 },
 "nbformat": 4,
 "nbformat_minor": 0
}
